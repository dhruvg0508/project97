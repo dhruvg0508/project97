{
  "nbformat": 4,
  "nbformat_minor": 0,
  "metadata": {
    "colab": {
      "provenance": [],
      "authorship_tag": "ABX9TyPT35cPS+UpOaoBL25AMMQK",
      "include_colab_link": true
    },
    "kernelspec": {
      "name": "python3",
      "display_name": "Python 3"
    },
    "language_info": {
      "name": "python"
    }
  },
  "cells": [
    {
      "cell_type": "markdown",
      "metadata": {
        "id": "view-in-github",
        "colab_type": "text"
      },
      "source": [
        "<a href=\"https://colab.research.google.com/github/dhruvg0508/project97/blob/main/Project_97.ipynb\" target=\"_parent\"><img src=\"https://colab.research.google.com/assets/colab-badge.svg\" alt=\"Open In Colab\"/></a>"
      ]
    },
    {
      "cell_type": "code",
      "execution_count": 4,
      "metadata": {
        "colab": {
          "base_uri": "https://localhost:8080/"
        },
        "id": "Xb4fSFfb62S3",
        "outputId": "4cbf661d-94f5-4480-86bf-d2367c849eae"
      },
      "outputs": [
        {
          "output_type": "stream",
          "name": "stdout",
          "text": [
            "Enter the year 2024\n",
            "This is a leap year\n"
          ]
        }
      ],
      "source": [
        "year= int(input(\"Enter the year \"))\n",
        "if(year%4 == 0):\n",
        "  print(\"This is a leap year\")\n",
        "else:\n",
        "  print(\"This is not a leap year\")"
      ]
    },
    {
      "cell_type": "code",
      "source": [
        "cm= int(input(\"Enter the height in cm \"))\n",
        "inches= 0.394*cm\n",
        "ft= 0.0328*cm\n",
        "print((\"The length in inches\",round(inches,2)))\n",
        "print((\"The length in feet\",round(ft,2)))\n"
      ],
      "metadata": {
        "colab": {
          "base_uri": "https://localhost:8080/"
        },
        "id": "aul2KZ-y9MYS",
        "outputId": "7d5cf50d-6051-4eec-bd0c-8868b5b06ef0"
      },
      "execution_count": 10,
      "outputs": [
        {
          "output_type": "stream",
          "name": "stdout",
          "text": [
            "Enter the height in cm 15\n",
            "('The length in inches', 5.91)\n",
            "('The length in feet', 0.492)\n"
          ]
        }
      ]
    }
  ]
}